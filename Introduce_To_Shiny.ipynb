{
 "cells": [
  {
   "cell_type": "markdown",
   "metadata": {},
   "source": [
    "# Shiny簡介\n",
    "\n",
    "\n",
    "### <span style=\"color:red\">為什麼要學 Shiny</span>\n",
    "* <b> 如果教授突然要你在明天meeting報告一下你最近在做什麼， 可是你什麼都沒做 </b> <br/>\n",
    ">  用shiny只要花2~3小時就能視覺化資料，加上你對於資料分析的專業訓練，相信你可以看著資料唬個半小時\n",
    "\n",
    "* <b> 如果老闆要你解釋你資料分析到底是在做什麼， 可是老闆連什麼是normal分佈都不知道 </b>   <br/>\n",
    ">  用shiny只要花2~3小時就能視覺化資料，加上你對於資料分析的專業訓練，相信你可以看著資料唬個半小時\n",
    "\n",
    "* <b> 如果要出去演講你的研究在做什麼， 可是台下聽眾程度參差不齊 </b>   <br/>\n",
    ">  用shiny只要花2~3小時就能視覺化資料，加上你對於資料分析的專業訓練，相信你可以看著資料唬個半小時\n",
    "\n",
    "* <b> 如果期中報告要分析資料， 可是你到前一周才想起來要做，來不及做各種觀察、假設檢定 </b>  <br/>\n",
    ">  用shiny只要花2~3小時就能視覺化資料，加上你對於資料分析的專業訓練，相信你可以看著資料唬個半小時\n",
    "\n",
    "### Shiny優點\n",
    "\n",
    "1. 比 Latex簡單\n",
    "2. 如果需要用一筆資料畫很多圖，Shiny最有效率(呈現也最簡潔)\n",
    "3. 這是R語言唯一一種能夠讓資料呈現在網頁上的方式\n",
    "4. 很多公司中寫R語言的資料科學家，都用shiny溝通(最有效率)\n",
    "5. 很多公司給客戶的系統是用shiny寫的\n",
    "\n",
    "### Shiny缺點\n",
    "1. 剛開始學會覺得有點麻煩\n",
    "2. 介面設計很麻煩，看久了會覺得很醜\n",
    "\n",
    "### 今天有什麼?\n",
    "> 從最基礎的shiny結構、繪圖、互動設計，到可以自己畫漂漂亮亮的介面，通通都有! 讚!\n",
    "\n",
    "### 今天總目標\n",
    "> 讓大家能夠自己製作shiny頁面，然後構分析他的網頁結構，並且自己刻出一個漂漂亮亮的。 <br/>\n",
    "> 在所有的範例裡面，我會盡量把範例的視覺、功能都做到完整， 至少是清楚簡潔。 <br/>\n",
    "> 因為我覺得不只是讓大家學會功能，更希望大家在學習的途中，每一個作品都有成就感，甚至是想要拿出去炫耀。 <br/>\n",
    "> 那有足夠的完整度，以後自己在處理分析資料時，才不會因為忽略太多細節而覺得怎麼刻出來這麼難看。 <br/>\n",
    "\n",
    "### 希望大家如果有問題都可以馬上提出，或是寫在下方空格內\n"
   ]
  },
  {
   "cell_type": "code",
   "execution_count": null,
   "metadata": {},
   "outputs": [],
   "source": [
    "# 問題回報區\n",
    "\n",
    "\n"
   ]
  },
  {
   "cell_type": "markdown",
   "metadata": {},
   "source": [
    "### Shiny 安裝\n",
    "install.packages(\"shiny\")\n",
    "\n",
    "### 課程程式碼下載\n",
    "[點這裡](https://github.com/RUI-LONG/shiny_tutorial/archive/master.zip)"
   ]
  },
  {
   "cell_type": "markdown",
   "metadata": {},
   "source": [
    "# Ch1 Shiny 結構\n",
    "\n",
    "<img src=\"https://4.bp.blogspot.com/--npFI-9viZ0/WZL2eWuB7sI/AAAAAAAAHKs/TKvLIPZLbG0Lb6U8oXpufAp4XuLIqXFkQCKgBGAs/s1600/U2.PNG\">\n"
   ]
  },
  {
   "cell_type": "markdown",
   "metadata": {},
   "source": [
    "#  ui & server 放入同一個檔案，並用函數方式進行\n",
    "\n",
    "* 由於一開始在寫的時候，放置在兩個檔案很難對著看，所以在初期我會用函數的方式，放置在同一個 R 檔案一起執行\n",
    "* 當然了縮排一定要排好，每個 Function 前建議都要寫明註解"
   ]
  },
  {
   "cell_type": "code",
   "execution_count": null,
   "metadata": {},
   "outputs": [
    {
     "name": "stderr",
     "output_type": "stream",
     "text": [
      "\n",
      "Listening on http://127.0.0.1:5567\n"
     ]
    }
   ],
   "source": [
    "library(shiny)\n",
    "\n",
    "ui <- shinyUI(pageWithSidebar(\n",
    "  \n",
    "  # 標題(最明顯的那種)\n",
    "  headerPanel(\"Hello Shiny!\"),\n",
    "  \n",
    "  # 注意obs, displot對應關係\n",
    "  # sidebarPanel 指的是在頁面側邊放入你要做的事 \n",
    "    \n",
    "  # 這邊的範例是一個滑動的霸，讓人可以選觀測值的輸入個數\n",
    "    \n",
    "  sidebarPanel(\n",
    "    sliderInput(\"obs\", \n",
    "                \"Number of observations:\", \n",
    "                min = 0, \n",
    "                max = 1000, \n",
    "                value = 500)\n",
    "  ),\n",
    "   \n",
    "  \n",
    "  # 在主畫面 顯示產生的normal分布\n",
    "  mainPanel(\n",
    "    plotOutput(\"distPlot\")\n",
    "  )\n",
    "))\n",
    "\n",
    "server <- shinyServer(function(input, output) {\n",
    "  \n",
    "\n",
    "  output$distPlot <- renderPlot({\n",
    "    \n",
    "    # 產生normal的分布\n",
    "    dist <- rnorm(input$obs)\n",
    "    hist(dist)\n",
    "  })\n",
    "})\n",
    "\n",
    "\n",
    "\n",
    "shinyApp( ui = ui, server = server)\n",
    "\n"
   ]
  },
  {
   "cell_type": "markdown",
   "metadata": {},
   "source": [
    "> 對了，如果想要一個主畫面(mainPanel) 加上兩個以上的側畫面(sidebarPanel) <br /> \n",
    "必須改用fluidRow 和 column (詳見 extra的資料夾 mulitple_sidepanel.R)"
   ]
  },
  {
   "cell_type": "markdown",
   "metadata": {},
   "source": [
    "# Ch2 Shiny 互動\n",
    "\n",
    "<img src=\"https://1.bp.blogspot.com/-BbpgvXTXrH8/WZLlATUqIDI/AAAAAAAAHKI/3AIWu2bIG7oAO11W_8UTBJ3UXDDr_nmMgCKgBGAs/s1600/U.PNG\">\n"
   ]
  },
  {
   "cell_type": "markdown",
   "metadata": {},
   "source": [
    "\n",
    "# 將原先的 ui & server Function 分置在 R File\n",
    "\n",
    "* 當東西做有一定的雛形時，我會將原先的 ui 、 server 兩個 Function 拆開，分別置入 R File，放進建立起 R Shiny 的專案目錄。"
   ]
  },
  {
   "cell_type": "code",
   "execution_count": null,
   "metadata": {},
   "outputs": [],
   "source": [
    "# ui.R\n",
    "\n",
    "library(shiny)\n",
    "\n",
    "shinyUI(pageWithSidebar(\n",
    "\n",
    "  # 標題(最明顯的那種)\n",
    "  headerPanel(\"Reactivity\"),\n",
    "\n",
    "  # textInput　輸入文字用\n",
    "  # selectInput　選取方格\n",
    "  # numericInput　輸入數值\n",
    "    \n",
    "  # 以上這些皆可以即時變換要呈現的主畫面\n",
    "    \n",
    "  sidebarPanel(\n",
    "    textInput(\"caption\", \"Caption:\", \"Data Summary\"),\n",
    "\n",
    "    selectInput(\"dataset\", \"Choose a dataset:\", \n",
    "                choices = c(\"rock\", \"pressure\", \"cars\")),\n",
    "\n",
    "    numericInput(\"obs\", \"Number of observations to view:\", 10)\n",
    "  ),\n",
    "\n",
    "\n",
    "  # 主畫面包含輸入變換的title、 data的摘要、data實際樣貌\n",
    "  mainPanel(\n",
    "    h3(textOutput(\"caption\")), \n",
    "\n",
    "    verbatimTextOutput(\"summary\"), \n",
    "\n",
    "    tableOutput(\"view\")\n",
    "  )\n",
    "))"
   ]
  },
  {
   "cell_type": "code",
   "execution_count": null,
   "metadata": {},
   "outputs": [],
   "source": [
    "#　server.R\n",
    "\n",
    "library(shiny)\n",
    "library(datasets)\n",
    "\n",
    "\n",
    "shinyServer(function(input, output) {\n",
    "\n",
    "\n",
    "  #1. 僅在輸入有變化時調用\n",
    "  #2. 計算和結果由所有callers共享（只執行一次）\n",
    "  #3. 當輸入改變並重新執行時，新結果與之前的結果進行比較; 如果這兩個是相同的，便會通知callers\n",
    "    \n",
    "  datasetInput <- reactive({\n",
    "    switch(input$dataset,\n",
    "           \"rock\" = rock,\n",
    "           \"pressure\" = pressure,\n",
    "           \"cars\" = cars)\n",
    "  })\n",
    "\n",
    "  #output$caption 是根據reactive function計算的\n",
    "  #input$caption 則是用戶更改'標題'時：\n",
    "   #1. 自動調用此function以重新計算輸出\n",
    "   #2. 新標題被推回瀏覽器重新顯示\n",
    "  \n",
    "    \n",
    "  output$caption <- renderText({\n",
    "    input$caption\n",
    "  })\n",
    "\n",
    "  # output$summary 取決於輸入的datasetInput reactive function, \n",
    "  # (i.e. 每當input$dataset 改變時， summary會變動)\n",
    "    \n",
    "  output$summary <- renderPrint({\n",
    "    dataset <- datasetInput()\n",
    "    summary(dataset)\n",
    "  })\n",
    "\n",
    "  # output$view 取決於輸入的 databaseInput reactive expression和 input$obs\n",
    "\n",
    "  output$view <- renderTable({\n",
    "    head(datasetInput(), n = input$obs)\n",
    "  })\n",
    "})"
   ]
  },
  {
   "cell_type": "code",
   "execution_count": null,
   "metadata": {},
   "outputs": [],
   "source": [
    "# runaPP.R\n",
    "\n",
    "library(shiny)\n",
    "options(shiny.host = '0.0.0.0')\n",
    "options(shiny.port = 8880)\n",
    "runApp(\"../ch2_Reactivity/\")"
   ]
  },
  {
   "cell_type": "markdown",
   "metadata": {},
   "source": [
    "# Ch3 Shiny中文 及自定義介面\n",
    "\n",
    "<img src=\"https://1.bp.blogspot.com/-LZPAlXBjAow/V_Vt_PMouAI/AAAAAAAAEuQ/-vGiRRioPgEOHAikHhv0-YIb0MG3B2JWACLcB/s1600/shiny.png\">\n"
   ]
  },
  {
   "cell_type": "markdown",
   "metadata": {},
   "source": [
    "# 新增global.R，並將global放入環境設定\n",
    "\n",
    "* 如果需要導入資料，也可以在global.R一起導入 <br/> \n",
    "* 若在server.R中導入資料的話，放到雲端伺服器上會有一些問題，不過本機端是不會有問題的 "
   ]
  },
  {
   "cell_type": "code",
   "execution_count": null,
   "metadata": {},
   "outputs": [],
   "source": [
    "# global.R\n",
    "\n",
    "options(shiny.usecairo = FALSE)\n",
    "\n",
    "# 為了解决ShinyApps上没有中文字體的問題\n",
    "\n",
    "font_home <- function(path = '') file.path('~', '.fonts', path)\n",
    "if (Sys.info()[['sysname']] == 'Linux' &&\n",
    "    system('locate wqy-zenhei.ttc') != 0 &&\n",
    "    !file.exists(font_home('wqy-zenhei.ttc'))) {\n",
    "  if (!file.exists('wqy-zenhei.ttc'))\n",
    "    shiny:::download(\n",
    "      'https://github.com/rstudio/shiny-examples/releases/download/v0.10.1/wqy-zenhei.ttc',\n",
    "      'wqy-zenhei.ttc'\n",
    "    )\n",
    "  dir.create(font_home())\n",
    "  file.copy('wqy-zenhei.ttc', font_home())\n",
    "  system2('fc-cache', paste('-f', font_home()))\n",
    "}\n",
    "rm(font_home)\n"
   ]
  },
  {
   "cell_type": "markdown",
   "metadata": {},
   "source": [
    "# 最好用的前端工程師交流網站\n",
    "\n",
    "\n",
    "[點這裡](https://codepen.io/search/pens?q=data%20visualization&page=1&order=popularity&depth=everything)\n"
   ]
  },
  {
   "cell_type": "code",
   "execution_count": null,
   "metadata": {},
   "outputs": [],
   "source": [
    "# 在ui.R中第34行加入\n",
    "includeHTML(\"../ch3_shiny_html/www/index.html\")"
   ]
  },
  {
   "cell_type": "code",
   "execution_count": null,
   "metadata": {},
   "outputs": [],
   "source": [
    "# ui.R\n",
    "\n",
    "# 主畫面包含輸入變換的title、 data的摘要、data實際樣貌\n",
    "  mainPanel(\n",
    "    h3(textOutput(\"caption\")), \n",
    "    \n",
    "    verbatimTextOutput(\"summary\"), \n",
    "    \n",
    "    tableOutput(\"view\"),\n",
    "    \n",
    "    includeHTML(\"../ch3_shiny_html/www/index.html\")\n",
    "  )"
   ]
  },
  {
   "cell_type": "markdown",
   "metadata": {},
   "source": [
    "# 自己設計界面囉 !\n",
    "\n",
    "\n",
    "[點這裡](https://www.layoutit.com/build)\n"
   ]
  },
  {
   "cell_type": "markdown",
   "metadata": {},
   "source": [
    "# Ref:\n",
    "[1] https://shiny.rstudio.com/articles/html-ui.html <br/>\n",
    "[2] https://kanchengzxdfgcv.blogspot.com/2017/08/r-2-shiny-shiny-server.html <br/>\n",
    "[3] http://shiny.leg.ufpr.br/daniel/022-unicode-chinese/ <br/>\n",
    "[4] http://yanping.me/shiny-tutorial/#reactivity"
   ]
  }
 ],
 "metadata": {
  "kernelspec": {
   "display_name": "R",
   "language": "R",
   "name": "ir"
  },
  "language_info": {
   "codemirror_mode": "r",
   "file_extension": ".r",
   "mimetype": "text/x-r-source",
   "name": "R",
   "pygments_lexer": "r",
   "version": "3.5.1"
  }
 },
 "nbformat": 4,
 "nbformat_minor": 2
}
